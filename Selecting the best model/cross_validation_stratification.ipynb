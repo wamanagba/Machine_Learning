{
 "cells": [
  {
   "cell_type": "markdown",
   "id": "cooked-colors",
   "metadata": {},
   "source": [
    "# Stratification\n",
    "Let's start with the concept of stratification by giving an example where\n",
    "we can get into trouble if we are not careful. Let's load the iris dataset."
   ]
  },
  {
   "cell_type": "code",
   "execution_count": 1,
   "id": "intimate-devon",
   "metadata": {},
   "outputs": [],
   "source": [
    "from sklearn.datasets import load_iris\n",
    "\n",
    "data, target = load_iris(as_frame=True, return_X_y=True)"
   ]
  },
  {
   "cell_type": "markdown",
   "id": "roman-juice",
   "metadata": {},
   "source": [
    "At this point, we create a basic machine-learning model: a logistic\n",
    "regression. We expect this model to work quite well on the iris dataset since\n",
    "this is a toy dataset."
   ]
  },
  {
   "cell_type": "code",
   "execution_count": 2,
   "id": "adequate-chocolate",
   "metadata": {},
   "outputs": [],
   "source": [
    "from sklearn.preprocessing import StandardScaler\n",
    "from sklearn.linear_model import LogisticRegression\n",
    "from sklearn.pipeline import make_pipeline\n",
    "\n",
    "model = make_pipeline(StandardScaler(), LogisticRegression())"
   ]
  },
  {
   "cell_type": "markdown",
   "id": "infinite-writing",
   "metadata": {},
   "source": [
    "Once we created our model, we will use the cross-validation framework to\n",
    "evaluate it. We will use the `KFold` cross-validation strategy.\n",
    "We will define a dataset with nine samples and repeat the cross-validation\n",
    "three times (i.e. `n_splits`)."
   ]
  },
  {
   "cell_type": "code",
   "execution_count": 3,
   "id": "significant-november",
   "metadata": {},
   "outputs": [
    {
     "name": "stdout",
     "output_type": "stream",
     "text": [
      "TRAIN: [3 4 5 6 7 8] TEST: [0 1 2]\n",
      "TRAIN: [0 1 2 6 7 8] TEST: [3 4 5]\n",
      "TRAIN: [0 1 2 3 4 5] TEST: [6 7 8]\n"
     ]
    }
   ],
   "source": [
    "import numpy as np\n",
    "from sklearn.model_selection import KFold\n",
    "\n",
    "data_random = np.random.randn(9, 1)\n",
    "cv = KFold(n_splits=3)\n",
    "for train_index, test_index in cv.split(data_random):\n",
    "    print(\"TRAIN:\", train_index, \"TEST:\", test_index)"
   ]
  },
  {
   "cell_type": "markdown",
   "id": "representative-secretariat",
   "metadata": {},
   "source": [
    "By defining three splits, we will use three samples for testing and six for\n",
    "training each time. `KFold` does not shuffle by default. It means that it\n",
    "will select the three first samples for the testing set at the first split,\n",
    "then the three next three samples for the second split, and the three next\n",
    "for the last split. In the end, all samples have been used in testing at\n",
    "least once among the different splits.\n",
    "\n",
    "Now, let's apply this strategy to check the statistical performance of our\n",
    "model."
   ]
  },
  {
   "cell_type": "code",
   "execution_count": 4,
   "id": "literary-abortion",
   "metadata": {},
   "outputs": [
    {
     "name": "stdout",
     "output_type": "stream",
     "text": [
      "The average accuracy is 0.000 +/- 0.000\n"
     ]
    }
   ],
   "source": [
    "from sklearn.model_selection import cross_validate\n",
    "\n",
    "cv = KFold(n_splits=3)\n",
    "results = cross_validate(model, data, target, cv=cv)\n",
    "test_score = results[\"test_score\"]\n",
    "print(f\"The average accuracy is \"\n",
    "      f\"{test_score.mean():.3f} +/- {test_score.std():.3f}\")"
   ]
  },
  {
   "cell_type": "markdown",
   "id": "global-montreal",
   "metadata": {},
   "source": [
    "It is a real surprise that our model cannot correctly classify any sample in\n",
    "any cross-validation split. We will now check our target's value to\n",
    "understand the issue."
   ]
  },
  {
   "cell_type": "code",
   "execution_count": 5,
   "id": "champion-pattern",
   "metadata": {},
   "outputs": [
    {
     "data": {
      "image/png": "[encoded data removed]",
      "text/plain": [
       "<Figure size 432x288 with 1 Axes>"
      ]
     },
     "metadata": {
      "needs_background": "light"
     },
     "output_type": "display_data"
    }
   ],
   "source": [
    "import matplotlib.pyplot as plt\n",
    "\n",
    "target.plot()\n",
    "plt.xlabel(\"Sample index\")\n",
    "plt.ylabel(\"Class\")\n",
    "plt.yticks(target.unique())\n",
    "_ = plt.title(\"Class value in target y\")"
   ]
  },
  {
   "cell_type": "markdown",
   "id": "understanding-waste",
   "metadata": {},
   "source": [
    "We see that the target vector `target` is ordered. It will have some\n",
    "unexpected consequences when using the `KFold` cross-validation. To\n",
    "illustrate the consequences, we will show the class count in each fold of the\n",
    "cross-validation in the train and test set.\n",
    "\n",
    "Let's compute the class counts for both the training and testing sets using\n",
    "the `KFold` cross-validation, and plot these information in a bar plot.\n",
    "\n",
    "We will iterate given the number of split and check how many samples of each\n",
    "are present in the training and testing set. We will store the information\n",
    "into two distincts lists; one for the training set and one for the testing\n",
    "set."
   ]
  },
  {
   "cell_type": "code",
   "execution_count": 6,
   "id": "apparent-fault",
   "metadata": {},
   "outputs": [],
   "source": [
    "import pandas as pd\n",
    "\n",
    "n_splits = 3\n",
    "cv = KFold(n_splits=n_splits)\n",
    "\n",
    "train_cv_counts = []\n",
    "test_cv_counts = []\n",
    "for fold_idx, (train_idx, test_idx) in enumerate(cv.split(data, target)):\n",
    "    target_train, target_test = target.iloc[train_idx], target.iloc[test_idx]\n",
    "\n",
    "    train_cv_counts.append(target_train.value_counts())\n",
    "    test_cv_counts.append(target_test.value_counts())"
   ]
  },
  {
   "cell_type": "markdown",
   "id": "apparent-wrong",
   "metadata": {},
   "source": [
    "To plot the information on a single figure, we will concatenate the\n",
    "information regarding the fold within the same dataset."
   ]
  },
  {
   "cell_type": "code",
   "execution_count": 7,
   "id": "indoor-intervention",
   "metadata": {},
   "outputs": [
    {
     "data": {
      "text/html": [
       "<div>\n",
       "<style scoped>\n",
       "    .dataframe tbody tr th:only-of-type {\n",
       "        vertical-align: middle;\n",
       "    }\n",
       "\n",
       "    .dataframe tbody tr th {\n",
       "        vertical-align: top;\n",
       "    }\n",
       "\n",
       "    .dataframe thead th {\n",
       "        text-align: right;\n",
       "    }\n",
       "</style>\n",
       "<table border=\"1\" class=\"dataframe\">\n",
       "  <thead>\n",
       "    <tr style=\"text-align: right;\">\n",
       "      <th></th>\n",
       "      <th>Fold #0</th>\n",
       "      <th>Fold #1</th>\n",
       "      <th>Fold #2</th>\n",
       "    </tr>\n",
       "    <tr>\n",
       "      <th>Class label</th>\n",
       "      <th></th>\n",
       "      <th></th>\n",
       "      <th></th>\n",
       "    </tr>\n",
       "  </thead>\n",
       "  <tbody>\n",
       "    <tr>\n",
       "      <th>0</th>\n",
       "      <td>NaN</td>\n",
       "      <td>50.0</td>\n",
       "      <td>50.0</td>\n",
       "    </tr>\n",
       "    <tr>\n",
       "      <th>1</th>\n",
       "      <td>50.0</td>\n",
       "      <td>NaN</td>\n",
       "      <td>50.0</td>\n",
       "    </tr>\n",
       "    <tr>\n",
       "      <th>2</th>\n",
       "      <td>50.0</td>\n",
       "      <td>50.0</td>\n",
       "      <td>NaN</td>\n",
       "    </tr>\n",
       "  </tbody>\n",
       "</table>\n",
       "</div>"
      ],
      "text/plain": [
       "             Fold #0  Fold #1  Fold #2\n",
       "Class label                           \n",
       "0                NaN     50.0     50.0\n",
       "1               50.0      NaN     50.0\n",
       "2               50.0     50.0      NaN"
      ]
     },
     "execution_count": 7,
     "metadata": {},
     "output_type": "execute_result"
    }
   ],
   "source": [
    "train_cv_counts = pd.concat(train_cv_counts, axis=1,\n",
    "                            keys=[f\"Fold #{idx}\" for idx in range(n_splits)])\n",
    "train_cv_counts.index.name = \"Class label\"\n",
    "train_cv_counts"
   ]
  },
  {
   "cell_type": "code",
   "execution_count": 8,
   "id": "exceptional-bunny",
   "metadata": {},
   "outputs": [
    {
     "data": {
      "text/html": [
       "<div>\n",
       "<style scoped>\n",
       "    .dataframe tbody tr th:only-of-type {\n",
       "        vertical-align: middle;\n",
       "    }\n",
       "\n",
       "    .dataframe tbody tr th {\n",
       "        vertical-align: top;\n",
       "    }\n",
       "\n",
       "    .dataframe thead th {\n",
       "        text-align: right;\n",
       "    }\n",
       "</style>\n",
       "<table border=\"1\" class=\"dataframe\">\n",
       "  <thead>\n",
       "    <tr style=\"text-align: right;\">\n",
       "      <th></th>\n",
       "      <th>Fold #0</th>\n",
       "      <th>Fold #1</th>\n",
       "      <th>Fold #2</th>\n",
       "    </tr>\n",
       "    <tr>\n",
       "      <th>Class label</th>\n",
       "      <th></th>\n",
       "      <th></th>\n",
       "      <th></th>\n",
       "    </tr>\n",
       "  </thead>\n",
       "  <tbody>\n",
       "    <tr>\n",
       "      <th>0</th>\n",
       "      <td>50.0</td>\n",
       "      <td>NaN</td>\n",
       "      <td>NaN</td>\n",
       "    </tr>\n",
       "    <tr>\n",
       "      <th>1</th>\n",
       "      <td>NaN</td>\n",
       "      <td>50.0</td>\n",
       "      <td>NaN</td>\n",
       "    </tr>\n",
       "    <tr>\n",
       "      <th>2</th>\n",
       "      <td>NaN</td>\n",
       "      <td>NaN</td>\n",
       "      <td>50.0</td>\n",
       "    </tr>\n",
       "  </tbody>\n",
       "</table>\n",
       "</div>"
      ],
      "text/plain": [
       "             Fold #0  Fold #1  Fold #2\n",
       "Class label                           \n",
       "0               50.0      NaN      NaN\n",
       "1                NaN     50.0      NaN\n",
       "2                NaN      NaN     50.0"
      ]
     },
     "execution_count": 8,
     "metadata": {},
     "output_type": "execute_result"
    }
   ],
   "source": [
    "test_cv_counts = pd.concat(test_cv_counts, axis=1,\n",
    "                           keys=[f\"Fold #{idx}\" for idx in range(n_splits)])\n",
    "test_cv_counts.index.name = \"Class label\"\n",
    "test_cv_counts"
   ]
  },
  {
   "cell_type": "markdown",
   "id": "blond-packet",
   "metadata": {},
   "source": [
    "Now we can represent graphically this information with bar plots."
   ]
  },
  {
   "cell_type": "code",
   "execution_count": 9,
   "id": "invisible-dryer",
   "metadata": {},
   "outputs": [
    {
     "data": {
      "image/png": "[encoded data removed]",
      "text/plain": [
       "<Figure size 432x288 with 1 Axes>"
      ]
     },
     "metadata": {
      "needs_background": "light"
     },
     "output_type": "display_data"
    }
   ],
   "source": [
    "train_cv_counts.plot.bar()\n",
    "plt.legend(bbox_to_anchor=(1.05, 0.8), loc=\"upper left\")\n",
    "plt.ylabel(\"Count\")\n",
    "_ = plt.title(\"Training set\")"
   ]
  },
  {
   "cell_type": "code",
   "execution_count": 10,
   "id": "abstract-deficit",
   "metadata": {},
   "outputs": [
    {
     "data": {
      "image/png": "[encoded data removed]",
      "text/plain": [
       "<Figure size 432x288 with 1 Axes>"
      ]
     },
     "metadata": {
      "needs_background": "light"
     },
     "output_type": "display_data"
    }
   ],
   "source": [
    "test_cv_counts.plot.bar()\n",
    "plt.legend(bbox_to_anchor=(1.05, 0.8), loc=\"upper left\")\n",
    "plt.ylabel(\"Count\")\n",
    "_ = plt.title(\"Test set\")"
   ]
  },
  {
   "cell_type": "markdown",
   "id": "greenhouse-proceeding",
   "metadata": {},
   "source": [
    "We can confirm that in each fold, only two of the three classes are present\n",
    "in the training set and all samples of the remaining class is used as a test\n",
    "set. So our model is unable to predict this class that was unseen during the\n",
    "training stage.\n",
    "\n",
    "One possibility to solve the issue is to shuffle the data before splitting\n",
    "the data into three groups."
   ]
  },
  {
   "cell_type": "code",
   "execution_count": 11,
   "id": "still-leeds",
   "metadata": {},
   "outputs": [
    {
     "name": "stdout",
     "output_type": "stream",
     "text": [
      "The average accuracy is 0.953 +/- 0.009\n"
     ]
    }
   ],
   "source": [
    "cv = KFold(n_splits=3, shuffle=True, random_state=0)\n",
    "results = cross_validate(model, data, target, cv=cv)\n",
    "test_score = results[\"test_score\"]\n",
    "print(f\"The average accuracy is \"\n",
    "      f\"{test_score.mean():.3f} +/- {test_score.std():.3f}\")"
   ]
  },
  {
   "cell_type": "markdown",
   "id": "choice-engineering",
   "metadata": {},
   "source": [
    "We get results that are closer to what we would expect with an accuracy above\n",
    "90%. Now that we solved our first issue, it would be interesting to check if\n",
    "the class frequency in the training and testing set is equal to our original\n",
    "set's class frequency. It would ensure that we are training and testing our\n",
    "model with a class distribution that we will encounter in production."
   ]
  },
  {
   "cell_type": "code",
   "execution_count": 12,
   "id": "herbal-jamaica",
   "metadata": {},
   "outputs": [],
   "source": [
    "train_cv_counts = []\n",
    "test_cv_counts = []\n",
    "for fold_idx, (train_idx, test_idx) in enumerate(cv.split(data, target)):\n",
    "    target_train, target_test = target.iloc[train_idx], target.iloc[test_idx]\n",
    "\n",
    "    train_cv_counts.append(target_train.value_counts())\n",
    "    test_cv_counts.append(target_test.value_counts())\n",
    "train_cv_counts = pd.concat(train_cv_counts, axis=1,\n",
    "                            keys=[f\"Fold #{idx}\" for idx in range(n_splits)])\n",
    "test_cv_counts = pd.concat(test_cv_counts, axis=1,\n",
    "                           keys=[f\"Fold #{idx}\" for idx in range(n_splits)])\n",
    "train_cv_counts.index.name = \"Class label\"\n",
    "test_cv_counts.index.name = \"Class label\""
   ]
  },
  {
   "cell_type": "code",
   "execution_count": 13,
   "id": "important-hormone",
   "metadata": {},
   "outputs": [
    {
     "data": {
      "image/png": "[encoded data removed]",
      "text/plain": [
       "<Figure size 432x288 with 1 Axes>"
      ]
     },
     "metadata": {
      "needs_background": "light"
     },
     "output_type": "display_data"
    }
   ],
   "source": [
    "train_cv_counts.plot.bar()\n",
    "plt.legend(bbox_to_anchor=(1.05, 0.8), loc=\"upper left\")\n",
    "plt.ylabel(\"Count\")\n",
    "_ = plt.title(\"Training set\")"
   ]
  },
  {
   "cell_type": "code",
   "execution_count": 14,
   "id": "monetary-clock",
   "metadata": {},
   "outputs": [
    {
     "data": {
      "image/png": "[encoded data removed]",
      "text/plain": [
       "<Figure size 432x288 with 1 Axes>"
      ]
     },
     "metadata": {
      "needs_background": "light"
     },
     "output_type": "display_data"
    }
   ],
   "source": [
    "test_cv_counts.plot.bar()\n",
    "plt.legend(bbox_to_anchor=(1.05, 0.8), loc=\"upper left\")\n",
    "plt.ylabel(\"Count\")\n",
    "_ = plt.title(\"Test set\")"
   ]
  },
  {
   "cell_type": "markdown",
   "id": "functioning-spectacular",
   "metadata": {},
   "source": [
    "We see that neither the training and testing sets have the same class\n",
    "frequencies as our original dataset because the count for each class is\n",
    "varying a little.\n",
    "\n",
    "However, one might want to split our data by preserving the original class\n",
    "frequencies: we want to **stratify** our data by class. In scikit-learn, some\n",
    "cross-validation strategies implement the stratification; they contain\n",
    "`Stratified` in their names."
   ]
  },
  {
   "cell_type": "code",
   "execution_count": 15,
   "id": "pleasant-cloud",
   "metadata": {},
   "outputs": [],
   "source": [
    "from sklearn.model_selection import StratifiedKFold\n",
    "\n",
    "cv = StratifiedKFold(n_splits=3)"
   ]
  },
  {
   "cell_type": "code",
   "execution_count": 16,
   "id": "instrumental-stone",
   "metadata": {},
   "outputs": [
    {
     "name": "stdout",
     "output_type": "stream",
     "text": [
      "The average accuracy is 0.960 +/- 0.016\n"
     ]
    }
   ],
   "source": [
    "results = cross_validate(model, data, target, cv=cv)\n",
    "test_score = results[\"test_score\"]\n",
    "print(f\"The average accuracy is \"\n",
    "      f\"{test_score.mean():.3f} +/- {test_score.std():.3f}\")"
   ]
  },
  {
   "cell_type": "code",
   "execution_count": 17,
   "id": "narrow-victoria",
   "metadata": {},
   "outputs": [],
   "source": [
    "train_cv_counts = []\n",
    "test_cv_counts = []\n",
    "for fold_idx, (train_idx, test_idx) in enumerate(cv.split(data, target)):\n",
    "    target_train, target_test = target.iloc[train_idx], target.iloc[test_idx]\n",
    "\n",
    "    train_cv_counts.append(target_train.value_counts())\n",
    "    test_cv_counts.append(target_test.value_counts())\n",
    "train_cv_counts = pd.concat(train_cv_counts, axis=1,\n",
    "                            keys=[f\"Fold #{idx}\" for idx in range(n_splits)])\n",
    "test_cv_counts = pd.concat(test_cv_counts, axis=1,\n",
    "                           keys=[f\"Fold #{idx}\" for idx in range(n_splits)])\n",
    "train_cv_counts.index.name = \"Class label\"\n",
    "test_cv_counts.index.name = \"Class label\""
   ]
  },
  {
   "cell_type": "code",
   "execution_count": 18,
   "id": "sixth-liability",
   "metadata": {},
   "outputs": [
    {
     "data": {
      "image/png": "[encoded data removed]",
      "text/plain": [
       "<Figure size 432x288 with 1 Axes>"
      ]
     },
     "metadata": {
      "needs_background": "light"
     },
     "output_type": "display_data"
    }
   ],
   "source": [
    "train_cv_counts.plot.bar()\n",
    "plt.legend(bbox_to_anchor=(1.05, 0.8), loc=\"upper left\")\n",
    "plt.ylabel(\"Count\")\n",
    "_ = plt.title(\"Training set\")"
   ]
  },
  {
   "cell_type": "code",
   "execution_count": 19,
   "id": "defined-teddy",
   "metadata": {},
   "outputs": [
    {
     "data": {
      "image/png": "[encoded data removed]",
      "text/plain": [
       "<Figure size 432x288 with 1 Axes>"
      ]
     },
     "metadata": {
      "needs_background": "light"
     },
     "output_type": "display_data"
    }
   ],
   "source": [
    "test_cv_counts.plot.bar()\n",
    "plt.legend(bbox_to_anchor=(1.05, 0.8), loc=\"upper left\")\n",
    "plt.ylabel(\"Count\")\n",
    "_ = plt.title(\"Test set\")"
   ]
  },
  {
   "cell_type": "markdown",
   "id": "functional-basic",
   "metadata": {},
   "source": [
    "In this case, we observe that the class counts are very close both in the\n",
    "train set and the test set. The difference is due to the small number of\n",
    "samples in the iris dataset.\n",
    "\n",
    "In conclusion, this is a good practice to use stratification within the\n",
    "cross-validation framework when dealing with a classification problem."
   ]
  }
 ],
 "metadata": {
  "jupytext": {
   "cell_metadata_filter": "-all",
   "main_language": "python",
   "notebook_metadata_filter": "-all"
  },
  "kernelspec": {
   "display_name": "Python 3",
   "language": "python",
   "name": "python3"
  },
  "language_info": {
   "codemirror_mode": {
    "name": "ipython",
    "version": 3
   },
   "file_extension": ".py",
   "mimetype": "text/x-python",
   "name": "python",
   "nbconvert_exporter": "python",
   "pygments_lexer": "ipython3",
   "version": "3.8.5"
  },
  "nbreset": "https://github.com/INRIA/scikit-learn-mooc/raw/master/notebooks/cross_validation_stratification.ipynb"
 },
 "nbformat": 4,
 "nbformat_minor": 5
}
