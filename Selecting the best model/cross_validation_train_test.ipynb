{
 "cells": [
  {
   "cell_type": "markdown",
   "id": "advance-cornell",
   "metadata": {},
   "source": [
    "# The framework and why do we need it\n",
    "\n",
    "In the previous notebooks, we introduce some concepts regarding the\n",
    "evaluation of predictive models. While this section could be slightly\n",
    "redundant, we intend to go into details into the cross-validation framework.\n",
    "\n",
    "Before we dive in, let's linger on the reasons for always having training and\n",
    "testing sets. Let's first look at the limitation of using a dataset without\n",
    "keeping any samples out.\n",
    "\n",
    "To illustrate the different concepts, we will use the California housing\n",
    "dataset."
   ]
  },
  {
   "cell_type": "code",
   "execution_count": 1,
   "id": "forward-horror",
   "metadata": {},
   "outputs": [],
   "source": [
    "from sklearn.datasets import fetch_california_housing\n",
    "\n",
    "housing = fetch_california_housing(as_frame=True)\n",
    "data, target = housing.data, housing.target"
   ]
  },
  {
   "cell_type": "markdown",
   "id": "narrative-costa",
   "metadata": {},
   "source": [
    "In this dataset, the aim is to predict the median value of houses in an area\n",
    "in California. The features collected are based on general real-estate and\n",
    "geographical information.\n",
    "\n",
    "Therefore, the task to solve is different from the one shown in the previous\n",
    "notebook. The target to be predicted is a continuous variable and not anymore\n",
    "discrete. This task is called regression.\n",
    "\n",
    "This, we will use a predictive model specific to regression and not to\n",
    "classification."
   ]
  },
  {
   "cell_type": "code",
   "execution_count": 2,
   "id": "boxed-guard",
   "metadata": {},
   "outputs": [
    {
     "name": "stdout",
     "output_type": "stream",
     "text": [
      ".. _california_housing_dataset:\n",
      "\n",
      "California Housing dataset\n",
      "--------------------------\n",
      "\n",
      "**Data Set Characteristics:**\n",
      "\n",
      "    :Number of Instances: 20640\n",
      "\n",
      "    :Number of Attributes: 8 numeric, predictive attributes and the target\n",
      "\n",
      "    :Attribute Information:\n",
      "        - MedInc        median income in block\n",
      "        - HouseAge      median house age in block\n",
      "        - AveRooms      average number of rooms\n",
      "        - AveBedrms     average number of bedrooms\n",
      "        - Population    block population\n",
      "        - AveOccup      average house occupancy\n",
      "        - Latitude      house block latitude\n",
      "        - Longitude     house block longitude\n",
      "\n",
      "    :Missing Attribute Values: None\n",
      "\n",
      "This dataset was obtained from the StatLib repository.\n",
      "http://lib.stat.cmu.edu/datasets/\n",
      "\n",
      "The target variable is the median house value for California districts.\n",
      "\n",
      "This dataset was derived from the 1990 U.S. census, using one row per census\n",
      "block group. A block group is the smallest geographical unit for which the U.S.\n",
      "Census Bureau publishes sample data (a block group typically has a population\n",
      "of 600 to 3,000 people).\n",
      "\n",
      "It can be downloaded/loaded using the\n",
      ":func:`sklearn.datasets.fetch_california_housing` function.\n",
      "\n",
      ".. topic:: References\n",
      "\n",
      "    - Pace, R. Kelley and Ronald Barry, Sparse Spatial Autoregressions,\n",
      "      Statistics and Probability Letters, 33 (1997) 291-297\n",
      "\n"
     ]
    }
   ],
   "source": [
    "print(housing.DESCR)"
   ]
  },
  {
   "cell_type": "code",
   "execution_count": 3,
   "id": "instrumental-lawrence",
   "metadata": {},
   "outputs": [
    {
     "data": {
      "text/html": [
       "<div>\n",
       "<style scoped>\n",
       "    .dataframe tbody tr th:only-of-type {\n",
       "        vertical-align: middle;\n",
       "    }\n",
       "\n",
       "    .dataframe tbody tr th {\n",
       "        vertical-align: top;\n",
       "    }\n",
       "\n",
       "    .dataframe thead th {\n",
       "        text-align: right;\n",
       "    }\n",
       "</style>\n",
       "<table border=\"1\" class=\"dataframe\">\n",
       "  <thead>\n",
       "    <tr style=\"text-align: right;\">\n",
       "      <th></th>\n",
       "      <th>MedInc</th>\n",
       "      <th>HouseAge</th>\n",
       "      <th>AveRooms</th>\n",
       "      <th>AveBedrms</th>\n",
       "      <th>Population</th>\n",
       "      <th>AveOccup</th>\n",
       "      <th>Latitude</th>\n",
       "      <th>Longitude</th>\n",
       "    </tr>\n",
       "  </thead>\n",
       "  <tbody>\n",
       "    <tr>\n",
       "      <th>0</th>\n",
       "      <td>8.3252</td>\n",
       "      <td>41.0</td>\n",
       "      <td>6.984127</td>\n",
       "      <td>1.023810</td>\n",
       "      <td>322.0</td>\n",
       "      <td>2.555556</td>\n",
       "      <td>37.88</td>\n",
       "      <td>-122.23</td>\n",
       "    </tr>\n",
       "    <tr>\n",
       "      <th>1</th>\n",
       "      <td>8.3014</td>\n",
       "      <td>21.0</td>\n",
       "      <td>6.238137</td>\n",
       "      <td>0.971880</td>\n",
       "      <td>2401.0</td>\n",
       "      <td>2.109842</td>\n",
       "      <td>37.86</td>\n",
       "      <td>-122.22</td>\n",
       "    </tr>\n",
       "    <tr>\n",
       "      <th>2</th>\n",
       "      <td>7.2574</td>\n",
       "      <td>52.0</td>\n",
       "      <td>8.288136</td>\n",
       "      <td>1.073446</td>\n",
       "      <td>496.0</td>\n",
       "      <td>2.802260</td>\n",
       "      <td>37.85</td>\n",
       "      <td>-122.24</td>\n",
       "    </tr>\n",
       "    <tr>\n",
       "      <th>3</th>\n",
       "      <td>5.6431</td>\n",
       "      <td>52.0</td>\n",
       "      <td>5.817352</td>\n",
       "      <td>1.073059</td>\n",
       "      <td>558.0</td>\n",
       "      <td>2.547945</td>\n",
       "      <td>37.85</td>\n",
       "      <td>-122.25</td>\n",
       "    </tr>\n",
       "    <tr>\n",
       "      <th>4</th>\n",
       "      <td>3.8462</td>\n",
       "      <td>52.0</td>\n",
       "      <td>6.281853</td>\n",
       "      <td>1.081081</td>\n",
       "      <td>565.0</td>\n",
       "      <td>2.181467</td>\n",
       "      <td>37.85</td>\n",
       "      <td>-122.25</td>\n",
       "    </tr>\n",
       "  </tbody>\n",
       "</table>\n",
       "</div>"
      ],
      "text/plain": [
       "   MedInc  HouseAge  AveRooms  AveBedrms  Population  AveOccup  Latitude  \\\n",
       "0  8.3252      41.0  6.984127   1.023810       322.0  2.555556     37.88   \n",
       "1  8.3014      21.0  6.238137   0.971880      2401.0  2.109842     37.86   \n",
       "2  7.2574      52.0  8.288136   1.073446       496.0  2.802260     37.85   \n",
       "3  5.6431      52.0  5.817352   1.073059       558.0  2.547945     37.85   \n",
       "4  3.8462      52.0  6.281853   1.081081       565.0  2.181467     37.85   \n",
       "\n",
       "   Longitude  \n",
       "0    -122.23  \n",
       "1    -122.22  \n",
       "2    -122.24  \n",
       "3    -122.25  \n",
       "4    -122.25  "
      ]
     },
     "execution_count": 3,
     "metadata": {},
     "output_type": "execute_result"
    }
   ],
   "source": [
    "data.head()"
   ]
  },
  {
   "cell_type": "markdown",
   "id": "manual-gathering",
   "metadata": {},
   "source": [
    "To simplify future visualization, let's transform the prices from the\n",
    "dollar (\\\\$) range to the thousand dollars (k\\\\$) range."
   ]
  },
  {
   "cell_type": "code",
   "execution_count": 4,
   "id": "square-convenience",
   "metadata": {},
   "outputs": [
    {
     "data": {
      "text/plain": [
       "0    452.6\n",
       "1    358.5\n",
       "2    352.1\n",
       "3    341.3\n",
       "4    342.2\n",
       "Name: MedHouseVal, dtype: float64"
      ]
     },
     "execution_count": 4,
     "metadata": {},
     "output_type": "execute_result"
    }
   ],
   "source": [
    "target *= 100\n",
    "target.head()"
   ]
  },
  {
   "cell_type": "markdown",
   "id": "proved-portable",
   "metadata": {},
   "source": [
    "## Training error vs testing error\n",
    "\n",
    "To solve this regression task, we will use a decision tree regressor."
   ]
  },
  {
   "cell_type": "code",
   "execution_count": 5,
   "id": "aerial-aging",
   "metadata": {},
   "outputs": [
    {
     "data": {
      "text/plain": [
       "DecisionTreeRegressor(random_state=0)"
      ]
     },
     "execution_count": 5,
     "metadata": {},
     "output_type": "execute_result"
    }
   ],
   "source": [
    "from sklearn.tree import DecisionTreeRegressor\n",
    "\n",
    "regressor = DecisionTreeRegressor(random_state=0)\n",
    "regressor.fit(data, target)"
   ]
  },
  {
   "cell_type": "markdown",
   "id": "portable-dragon",
   "metadata": {},
   "source": [
    "After training the regressor, we would like to know its potential statistical\n",
    "performance once deployed in production. For this purpose, we use the mean\n",
    "absolute error, which gives us an error in the native unit, i.e. k\\\\$."
   ]
  },
  {
   "cell_type": "code",
   "execution_count": 6,
   "id": "timely-given",
   "metadata": {},
   "outputs": [
    {
     "name": "stdout",
     "output_type": "stream",
     "text": [
      "On average, our regressor makes an error of 0.00 k$\n"
     ]
    }
   ],
   "source": [
    "from sklearn.metrics import mean_absolute_error\n",
    "\n",
    "target_predicted = regressor.predict(data)\n",
    "score = mean_absolute_error(target, target_predicted)\n",
    "print(f\"On average, our regressor makes an error of {score:.2f} k$\")"
   ]
  },
  {
   "cell_type": "markdown",
   "id": "monthly-planner",
   "metadata": {
    "lines_to_next_cell": 0
   },
   "source": [
    "We get perfect prediction with no error. It is too optimistic and almost\n",
    "always revealing a methodological problem when doing machine learning.\n",
    "\n",
    "Indeed, we trained and predicted on the same dataset. Since our decision tree\n",
    "was fully grown, every sample in the dataset is stored in a leaf node.\n",
    "Therefore, our decision tree fully memorized the dataset given during `fit`\n",
    "and therefore made no error when predicting.\n",
    "\n",
    "This error computed above is called the **empirical error** or **training\n",
    "error**.\n",
    "\n",
    "\n",
    "\n",
    "We trained a predictive model to minimize the training error but our aim is\n",
    "to minimize the error on data that has not been seen during training.\n",
    "\n",
    "This error is also called the **generalization error** or the \"true\"\n",
    "**testing error**.\n",
    "\n",
    "\n",
    "\n",
    "Thus, the most basic evaluation involves:\n",
    "\n",
    "* splitting our dataset into two subsets: a training set and a testing set;\n",
    "* fitting the model on the training set;\n",
    "* estimating the training error on the training set;\n",
    "* estimating the testing error on the testing set.\n",
    "\n",
    "So let's split our dataset."
   ]
  },
  {
   "cell_type": "code",
   "execution_count": 7,
   "id": "ahead-notice",
   "metadata": {},
   "outputs": [],
   "source": [
    "from sklearn.model_selection import train_test_split\n",
    "\n",
    "data_train, data_test, target_train, target_test = train_test_split(\n",
    "    data, target, random_state=0)"
   ]
  },
  {
   "cell_type": "markdown",
   "id": "sitting-bowling",
   "metadata": {},
   "source": [
    "Then, let's train our model."
   ]
  },
  {
   "cell_type": "code",
   "execution_count": 8,
   "id": "growing-expansion",
   "metadata": {},
   "outputs": [
    {
     "data": {
      "text/plain": [
       "DecisionTreeRegressor(random_state=0)"
      ]
     },
     "execution_count": 8,
     "metadata": {},
     "output_type": "execute_result"
    }
   ],
   "source": [
    "regressor.fit(data_train, target_train)"
   ]
  },
  {
   "cell_type": "markdown",
   "id": "unlikely-acceptance",
   "metadata": {},
   "source": [
    "Finally, we estimate the different types of errors. Let's start by computing\n",
    "the training error."
   ]
  },
  {
   "cell_type": "code",
   "execution_count": 9,
   "id": "worthy-property",
   "metadata": {},
   "outputs": [
    {
     "name": "stdout",
     "output_type": "stream",
     "text": [
      "The training error of our model is 0.00 k$\n"
     ]
    }
   ],
   "source": [
    "target_predicted = regressor.predict(data_train)\n",
    "score = mean_absolute_error(target_train, target_predicted)\n",
    "print(f\"The training error of our model is {score:.2f} k$\")"
   ]
  },
  {
   "cell_type": "markdown",
   "id": "superb-pasta",
   "metadata": {},
   "source": [
    "We observe the same phenomena as in the previous experiment: our model\n",
    "memorized the training set. However, we now compute the testing error."
   ]
  },
  {
   "cell_type": "code",
   "execution_count": 10,
   "id": "pretty-interference",
   "metadata": {},
   "outputs": [
    {
     "name": "stdout",
     "output_type": "stream",
     "text": [
      "The testing error of our model is 47.28 k$\n"
     ]
    }
   ],
   "source": [
    "target_predicted = regressor.predict(data_test)\n",
    "score = mean_absolute_error(target_test, target_predicted)\n",
    "print(f\"The testing error of our model is {score:.2f} k$\")"
   ]
  },
  {
   "cell_type": "markdown",
   "id": "current-richmond",
   "metadata": {},
   "source": [
    "This testing error is actually about what we would expect from our model if\n",
    "it was used in a production environment."
   ]
  },
  {
   "cell_type": "markdown",
   "id": "heated-karaoke",
   "metadata": {},
   "source": [
    "## Stability of the cross-validation estimates\n",
    "\n",
    "When doing a single train-test split we don't give any indication regarding\n",
    "the robustness of the evaluation of our predictive model: in particular, if\n",
    "the test set is small, this estimate of the testing error will be\n",
    "unstable and wouldn't reflect the \"true error rate\" we would have observed\n",
    "with the same model on an unlimited amount of test data.\n",
    "\n",
    "For instance, we could have been lucky when we did our random split of our\n",
    "limited dataset and isolated some of the easiest cases to predict in the\n",
    "testing set just by chance: the estimation of the testing error would be\n",
    "overly optimistic, in this case.\n",
    "\n",
    "**Cross-validation** allows estimating the robustness of a predictive model\n",
    "by repeating the splitting procedure. It will give several training and\n",
    "testing errors and thus some **estimate of the variability of the\n",
    "model statistical performance**.\n",
    "\n",
    "There are different cross-validation strategies, for now we are going to\n",
    "focus on one called \"shuffle-split\". At each iteration of this strategy we:\n",
    "\n",
    "- randomly shuffle the order of the samples of a copy of the full dataset;\n",
    "- split the shuffled dataset into a train and a test set;\n",
    "- train a new model on the train set;\n",
    "- evaluate the testing error on the test set.\n",
    "\n",
    "We repeat this procedure `n_splits` times. Using `n_splits=40` means that we\n",
    "will train 40 models in total and all of them will be discarded: we just\n",
    "record their statistical performance on each variant of the test set.\n",
    "\n",
    "To evaluate the statistical performance of our regressor, we can use\n",
    "[`sklearn.model_selection.cross_validate`](https://scikit-learn.org/stable/modules/generated/sklearn.model_selection.cross_validate.html)\n",
    "with a\n",
    "[`sklearn.model_selection.ShuffleSplit`](https://scikit-learn.org/stable/modules/generated/sklearn.model_selection.ShuffleSplit.html)\n",
    "object:"
   ]
  },
  {
   "cell_type": "code",
   "execution_count": 11,
   "id": "neural-concentration",
   "metadata": {},
   "outputs": [],
   "source": [
    "from sklearn.model_selection import cross_validate\n",
    "from sklearn.model_selection import ShuffleSplit\n",
    "\n",
    "cv = ShuffleSplit(n_splits=40, test_size=0.3, random_state=0)\n",
    "cv_results = cross_validate(\n",
    "    regressor, data, target, cv=cv, scoring=\"neg_mean_absolute_error\")"
   ]
  },
  {
   "cell_type": "markdown",
   "id": "enhanced-fireplace",
   "metadata": {},
   "source": [
    "The results `cv_results` are stored into a Python dictionary. We will convert\n",
    "it into a pandas dataframe to ease visualization and manipulation."
   ]
  },
  {
   "cell_type": "code",
   "execution_count": 12,
   "id": "forced-complex",
   "metadata": {},
   "outputs": [
    {
     "data": {
      "text/html": [
       "<div>\n",
       "<style scoped>\n",
       "    .dataframe tbody tr th:only-of-type {\n",
       "        vertical-align: middle;\n",
       "    }\n",
       "\n",
       "    .dataframe tbody tr th {\n",
       "        vertical-align: top;\n",
       "    }\n",
       "\n",
       "    .dataframe thead th {\n",
       "        text-align: right;\n",
       "    }\n",
       "</style>\n",
       "<table border=\"1\" class=\"dataframe\">\n",
       "  <thead>\n",
       "    <tr style=\"text-align: right;\">\n",
       "      <th></th>\n",
       "      <th>fit_time</th>\n",
       "      <th>score_time</th>\n",
       "      <th>test_score</th>\n",
       "    </tr>\n",
       "  </thead>\n",
       "  <tbody>\n",
       "    <tr>\n",
       "      <th>0</th>\n",
       "      <td>0.161771</td>\n",
       "      <td>0.003084</td>\n",
       "      <td>-46.909797</td>\n",
       "    </tr>\n",
       "    <tr>\n",
       "      <th>1</th>\n",
       "      <td>0.130670</td>\n",
       "      <td>0.003069</td>\n",
       "      <td>-46.421170</td>\n",
       "    </tr>\n",
       "    <tr>\n",
       "      <th>2</th>\n",
       "      <td>0.128885</td>\n",
       "      <td>0.002988</td>\n",
       "      <td>-47.411089</td>\n",
       "    </tr>\n",
       "    <tr>\n",
       "      <th>3</th>\n",
       "      <td>0.129936</td>\n",
       "      <td>0.003024</td>\n",
       "      <td>-44.319824</td>\n",
       "    </tr>\n",
       "    <tr>\n",
       "      <th>4</th>\n",
       "      <td>0.128592</td>\n",
       "      <td>0.003006</td>\n",
       "      <td>-47.607875</td>\n",
       "    </tr>\n",
       "  </tbody>\n",
       "</table>\n",
       "</div>"
      ],
      "text/plain": [
       "   fit_time  score_time  test_score\n",
       "0  0.161771    0.003084  -46.909797\n",
       "1  0.130670    0.003069  -46.421170\n",
       "2  0.128885    0.002988  -47.411089\n",
       "3  0.129936    0.003024  -44.319824\n",
       "4  0.128592    0.003006  -47.607875"
      ]
     },
     "execution_count": 12,
     "metadata": {},
     "output_type": "execute_result"
    }
   ],
   "source": [
    "import pandas as pd\n",
    "\n",
    "cv_results = pd.DataFrame(cv_results)\n",
    "cv_results.head()"
   ]
  },
  {
   "cell_type": "markdown",
   "id": "quick-mathematics",
   "metadata": {},
   "source": [
    "<div class=\"admonition tip alert alert-warning\">\n",
    "<p class=\"first admonition-title\" style=\"font-weight: bold;\">Tip</p>\n",
    "<p>A score is a metric for which higher values mean better results. On the\n",
    "contrary, an error is a metric for which lower values mean better results.\n",
    "The parameter <tt class=\"docutils literal\">scoring</tt> in <tt class=\"docutils literal\">cross_validate</tt> always expect a function that is\n",
    "a score.</p>\n",
    "<p class=\"last\">To make it easy, all error metrics in scikit-learn, like\n",
    "<tt class=\"docutils literal\">mean_absolute_error</tt>, can be transformed into a score to be used in\n",
    "<tt class=\"docutils literal\">cross_validate</tt>. To do so, you need to pass a string of the error metric\n",
    "with an additional <tt class=\"docutils literal\">neg_</tt> string at the front to the parameter <tt class=\"docutils literal\">scoring</tt>;\n",
    "for instance <tt class=\"docutils literal\"><span class=\"pre\">scoring=\"neg_mean_absolute_error\"</span></tt>. In this case, the negative\n",
    "of the mean absolute error will be computed which would be equivalent to a\n",
    "score.</p>\n",
    "</div>\n",
    "\n",
    "Let us revert the negation to get the actual error:"
   ]
  },
  {
   "cell_type": "code",
   "execution_count": 13,
   "id": "cutting-quarterly",
   "metadata": {},
   "outputs": [],
   "source": [
    "cv_results[\"test_error\"] = -cv_results[\"test_score\"]"
   ]
  },
  {
   "cell_type": "markdown",
   "id": "proof-optimum",
   "metadata": {},
   "source": [
    "Let's check the results reported by the cross-validation."
   ]
  },
  {
   "cell_type": "code",
   "execution_count": 14,
   "id": "basic-offering",
   "metadata": {},
   "outputs": [
    {
     "data": {
      "text/html": [
       "<div>\n",
       "<style scoped>\n",
       "    .dataframe tbody tr th:only-of-type {\n",
       "        vertical-align: middle;\n",
       "    }\n",
       "\n",
       "    .dataframe tbody tr th {\n",
       "        vertical-align: top;\n",
       "    }\n",
       "\n",
       "    .dataframe thead th {\n",
       "        text-align: right;\n",
       "    }\n",
       "</style>\n",
       "<table border=\"1\" class=\"dataframe\">\n",
       "  <thead>\n",
       "    <tr style=\"text-align: right;\">\n",
       "      <th></th>\n",
       "      <th>fit_time</th>\n",
       "      <th>score_time</th>\n",
       "      <th>test_score</th>\n",
       "      <th>test_error</th>\n",
       "    </tr>\n",
       "  </thead>\n",
       "  <tbody>\n",
       "    <tr>\n",
       "      <th>0</th>\n",
       "      <td>0.161771</td>\n",
       "      <td>0.003084</td>\n",
       "      <td>-46.909797</td>\n",
       "      <td>46.909797</td>\n",
       "    </tr>\n",
       "    <tr>\n",
       "      <th>1</th>\n",
       "      <td>0.130670</td>\n",
       "      <td>0.003069</td>\n",
       "      <td>-46.421170</td>\n",
       "      <td>46.421170</td>\n",
       "    </tr>\n",
       "    <tr>\n",
       "      <th>2</th>\n",
       "      <td>0.128885</td>\n",
       "      <td>0.002988</td>\n",
       "      <td>-47.411089</td>\n",
       "      <td>47.411089</td>\n",
       "    </tr>\n",
       "    <tr>\n",
       "      <th>3</th>\n",
       "      <td>0.129936</td>\n",
       "      <td>0.003024</td>\n",
       "      <td>-44.319824</td>\n",
       "      <td>44.319824</td>\n",
       "    </tr>\n",
       "    <tr>\n",
       "      <th>4</th>\n",
       "      <td>0.128592</td>\n",
       "      <td>0.003006</td>\n",
       "      <td>-47.607875</td>\n",
       "      <td>47.607875</td>\n",
       "    </tr>\n",
       "    <tr>\n",
       "      <th>5</th>\n",
       "      <td>0.129302</td>\n",
       "      <td>0.002996</td>\n",
       "      <td>-45.901300</td>\n",
       "      <td>45.901300</td>\n",
       "    </tr>\n",
       "    <tr>\n",
       "      <th>6</th>\n",
       "      <td>0.129844</td>\n",
       "      <td>0.003235</td>\n",
       "      <td>-46.572767</td>\n",
       "      <td>46.572767</td>\n",
       "    </tr>\n",
       "    <tr>\n",
       "      <th>7</th>\n",
       "      <td>0.130760</td>\n",
       "      <td>0.003085</td>\n",
       "      <td>-46.194585</td>\n",
       "      <td>46.194585</td>\n",
       "    </tr>\n",
       "    <tr>\n",
       "      <th>8</th>\n",
       "      <td>0.131376</td>\n",
       "      <td>0.003185</td>\n",
       "      <td>-45.590236</td>\n",
       "      <td>45.590236</td>\n",
       "    </tr>\n",
       "    <tr>\n",
       "      <th>9</th>\n",
       "      <td>0.130539</td>\n",
       "      <td>0.003059</td>\n",
       "      <td>-45.727998</td>\n",
       "      <td>45.727998</td>\n",
       "    </tr>\n",
       "  </tbody>\n",
       "</table>\n",
       "</div>"
      ],
      "text/plain": [
       "   fit_time  score_time  test_score  test_error\n",
       "0  0.161771    0.003084  -46.909797   46.909797\n",
       "1  0.130670    0.003069  -46.421170   46.421170\n",
       "2  0.128885    0.002988  -47.411089   47.411089\n",
       "3  0.129936    0.003024  -44.319824   44.319824\n",
       "4  0.128592    0.003006  -47.607875   47.607875\n",
       "5  0.129302    0.002996  -45.901300   45.901300\n",
       "6  0.129844    0.003235  -46.572767   46.572767\n",
       "7  0.130760    0.003085  -46.194585   46.194585\n",
       "8  0.131376    0.003185  -45.590236   45.590236\n",
       "9  0.130539    0.003059  -45.727998   45.727998"
      ]
     },
     "execution_count": 14,
     "metadata": {},
     "output_type": "execute_result"
    }
   ],
   "source": [
    "cv_results.head(10)"
   ]
  },
  {
   "cell_type": "markdown",
   "id": "printable-bulgarian",
   "metadata": {},
   "source": [
    "We get timing information to fit and predict at each cross-validation\n",
    "iteration. Also, we get the test score, which corresponds to the testing\n",
    "error on each of the splits."
   ]
  },
  {
   "cell_type": "code",
   "execution_count": 15,
   "id": "african-thomas",
   "metadata": {},
   "outputs": [
    {
     "data": {
      "text/plain": [
       "40"
      ]
     },
     "execution_count": 15,
     "metadata": {},
     "output_type": "execute_result"
    }
   ],
   "source": [
    "len(cv_results)"
   ]
  },
  {
   "cell_type": "markdown",
   "id": "cardiovascular-liberia",
   "metadata": {},
   "source": [
    "We get 40 entries in our resulting dataframe because we performed 40\n",
    "splits. Therefore, we can show the testing error distribution and thus, have\n",
    "an estimate of its variability."
   ]
  },
  {
   "cell_type": "code",
   "execution_count": 16,
   "id": "liberal-ending",
   "metadata": {},
   "outputs": [
    {
     "data": {
      "image/png": "[encoded data removed]",
      "text/plain": [
       "<Figure size 432x288 with 1 Axes>"
      ]
     },
     "metadata": {
      "needs_background": "light"
     },
     "output_type": "display_data"
    }
   ],
   "source": [
    "import matplotlib.pyplot as plt\n",
    "\n",
    "cv_results[\"test_error\"].plot.hist(bins=10, edgecolor=\"black\", density=True)\n",
    "plt.xlabel(\"Mean absolute error (k$)\")\n",
    "_ = plt.title(\"Test error distribution\")"
   ]
  },
  {
   "cell_type": "markdown",
   "id": "scheduled-cream",
   "metadata": {},
   "source": [
    "We observe that the testing error is clustered around 47 k\\\\$ and\n",
    "ranges from 43 k\\\\$ to 50 k\\\\$."
   ]
  },
  {
   "cell_type": "code",
   "execution_count": 17,
   "id": "independent-rendering",
   "metadata": {},
   "outputs": [
    {
     "name": "stdout",
     "output_type": "stream",
     "text": [
      "The mean cross-validated testing error is: 46.36 k$\n"
     ]
    }
   ],
   "source": [
    "print(f\"The mean cross-validated testing error is: \"\n",
    "      f\"{cv_results['test_error'].mean():.2f} k$\")"
   ]
  },
  {
   "cell_type": "code",
   "execution_count": 18,
   "id": "weird-personality",
   "metadata": {},
   "outputs": [
    {
     "name": "stdout",
     "output_type": "stream",
     "text": [
      "The standard deviation of the testing error is: 1.17 k$\n"
     ]
    }
   ],
   "source": [
    "print(f\"The standard deviation of the testing error is: \"\n",
    "      f\"{cv_results['test_error'].std():.2f} k$\")"
   ]
  },
  {
   "cell_type": "markdown",
   "id": "unlimited-senator",
   "metadata": {},
   "source": [
    "Note that the standard deviation is much smaller than the mean: we could\n",
    "summarize that our cross-validation estimate of the testing error is\n",
    "46.36 +/- 1.17 k\\\\$.\n",
    "\n",
    "If we were to train a single model on the full dataset (without\n",
    "cross-validation) and then later had access to an unlimited amount of test\n",
    "data, we would expect its true testing error to fall close to that\n",
    "region.\n",
    "\n",
    "While this information is interesting in itself, it should be contrasted to\n",
    "the scale of the natural variability of the vector `target` in our dataset.\n",
    "\n",
    "Let us plot the distribution of the target variable:"
   ]
  },
  {
   "cell_type": "code",
   "execution_count": 19,
   "id": "dying-adventure",
   "metadata": {},
   "outputs": [
    {
     "data": {
      "image/png": "[encoded data removed]",
      "text/plain": [
       "<Figure size 432x288 with 1 Axes>"
      ]
     },
     "metadata": {
      "needs_background": "light"
     },
     "output_type": "display_data"
    }
   ],
   "source": [
    "target.plot.hist(bins=20, edgecolor=\"black\", density=True)\n",
    "plt.xlabel(\"Median House Value (k$)\")\n",
    "_ = plt.title(\"Target distribution\")"
   ]
  },
  {
   "cell_type": "code",
   "execution_count": 20,
   "id": "innovative-latex",
   "metadata": {},
   "outputs": [
    {
     "name": "stdout",
     "output_type": "stream",
     "text": [
      "The standard deviation of the target is: 115.40 k$\n"
     ]
    }
   ],
   "source": [
    "print(f\"The standard deviation of the target is: {target.std():.2f} k$\")"
   ]
  },
  {
   "cell_type": "markdown",
   "id": "allied-nylon",
   "metadata": {},
   "source": [
    "The target variable ranges from close to 0 k\\\\$ up to 500 k\\\\$ and, with a\n",
    "standard deviation around 115 k\\\\$.\n",
    "\n",
    "We notice that the mean estimate of the testing error obtained by\n",
    "cross-validation is a bit smaller than the natural scale of variation of the\n",
    "target variable. Furthermore, the standard deviation of the cross validation\n",
    "estimate of the testing error is even smaller.\n",
    "\n",
    "This is a good start, but not necessarily enough to decide whether the\n",
    "generalization performance is good enough to make our prediction useful in\n",
    "practice.\n",
    "\n",
    "We recall that our model makes, on average, an error around 47 k\\\\$. With this\n",
    "information and looking at the target distribution, such an error might be\n",
    "acceptable when predicting houses with a 500 k\\\\$. However, it would be an\n",
    "issue with a house with a value of 50 k\\\\$. Thus, this indicates that our\n",
    "metric (Mean Absolute Error) is not ideal.\n",
    "\n",
    "We might instead choose a metric relative to the target value to predict: the\n",
    "mean absolute percentage error would have been a much better choice.\n",
    "\n",
    "But in all cases, an error of 47 k\\\\$ might be too large to automatically use\n",
    "our model to tag house values without expert supervision.\n",
    "\n",
    "## More detail regarding `cross_validate`\n",
    "\n",
    "During cross-validation, many models are trained and evaluated. Indeed, the\n",
    "number of elements in each array of the output of `cross_validate` is a\n",
    "result from one of these `fit`/`score` procedures. To make it explicit, it is\n",
    "possible to retrieve theses fitted models for each of the splits/folds by\n",
    "passing the option `return_estimator=True` in `cross_validate`."
   ]
  },
  {
   "cell_type": "code",
   "execution_count": 21,
   "id": "accompanied-integration",
   "metadata": {},
   "outputs": [
    {
     "data": {
      "text/plain": [
       "{'fit_time': array([0.16802621, 0.1479466 , 0.14864731, 0.14863801, 0.14398193]),\n",
       " 'score_time': array([0.00270033, 0.00234866, 0.00246453, 0.00215411, 0.00219393]),\n",
       " 'estimator': [DecisionTreeRegressor(random_state=0),\n",
       "  DecisionTreeRegressor(random_state=0),\n",
       "  DecisionTreeRegressor(random_state=0),\n",
       "  DecisionTreeRegressor(random_state=0),\n",
       "  DecisionTreeRegressor(random_state=0)],\n",
       " 'test_score': array([0.26291527, 0.41947109, 0.44492564, 0.23357874, 0.40788361])}"
      ]
     },
     "execution_count": 21,
     "metadata": {},
     "output_type": "execute_result"
    }
   ],
   "source": [
    "cv_results = cross_validate(regressor, data, target, return_estimator=True)\n",
    "cv_results"
   ]
  },
  {
   "cell_type": "code",
   "execution_count": 22,
   "id": "nonprofit-exclusion",
   "metadata": {},
   "outputs": [
    {
     "data": {
      "text/plain": [
       "[DecisionTreeRegressor(random_state=0),\n",
       " DecisionTreeRegressor(random_state=0),\n",
       " DecisionTreeRegressor(random_state=0),\n",
       " DecisionTreeRegressor(random_state=0),\n",
       " DecisionTreeRegressor(random_state=0)]"
      ]
     },
     "execution_count": 22,
     "metadata": {},
     "output_type": "execute_result"
    }
   ],
   "source": [
    "cv_results[\"estimator\"]"
   ]
  },
  {
   "cell_type": "markdown",
   "id": "adequate-remainder",
   "metadata": {},
   "source": [
    "The five decision tree regressors corresponds to the five fitted decision\n",
    "trees on the different folds. Having access to these regressors is handy\n",
    "because it allows to inspect the internal fitted parameters of these\n",
    "regressors.\n",
    "\n",
    "In the case where you only are interested in the test score, scikit-learn\n",
    "provide a `cross_val_score` function. It is identical to calling the\n",
    "`cross_validate` function and to select the `test_score` only (as we\n",
    "extensively did in the previous notebooks)."
   ]
  },
  {
   "cell_type": "code",
   "execution_count": 23,
   "id": "impaired-wings",
   "metadata": {},
   "outputs": [
    {
     "data": {
      "text/plain": [
       "array([0.26291527, 0.41947109, 0.44492564, 0.23357874, 0.40788361])"
      ]
     },
     "execution_count": 23,
     "metadata": {},
     "output_type": "execute_result"
    }
   ],
   "source": [
    "from sklearn.model_selection import cross_val_score\n",
    "\n",
    "scores = cross_val_score(regressor, data, target)\n",
    "scores"
   ]
  },
  {
   "cell_type": "markdown",
   "id": "homeless-commons",
   "metadata": {},
   "source": [
    "## Summary\n",
    "\n",
    "In this notebook, we saw:\n",
    "\n",
    "* the necessity of splitting the data into a train and test set;\n",
    "* the meaning of the training and testing errors;\n",
    "* the overall cross-validation framework with the possibility to study\n",
    "  statistical performance variations;"
   ]
  }
 ],
 "metadata": {
  "jupytext": {
   "cell_metadata_filter": "-all",
   "main_language": "python",
   "notebook_metadata_filter": "-all"
  },
  "kernelspec": {
   "display_name": "Python 3",
   "language": "python",
   "name": "python3"
  },
  "language_info": {
   "codemirror_mode": {
    "name": "ipython",
    "version": 3
   },
   "file_extension": ".py",
   "mimetype": "text/x-python",
   "name": "python",
   "nbconvert_exporter": "python",
   "pygments_lexer": "ipython3",
   "version": "3.8.5"
  },
  "nbreset": "https://github.com/INRIA/scikit-learn-mooc/raw/master/notebooks/cross_validation_train_test.ipynb"
 },
 "nbformat": 4,
 "nbformat_minor": 5
}
