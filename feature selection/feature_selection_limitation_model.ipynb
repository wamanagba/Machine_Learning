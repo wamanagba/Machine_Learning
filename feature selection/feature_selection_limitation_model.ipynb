{
 "cells": [
  {
   "cell_type": "markdown",
   "id": "encouraging-grass",
   "metadata": {},
   "source": [
    "# Limitation of selecting feature using a model\n",
    "\n",
    "In this notebook, we want to show a limitation when using a machine-learning\n",
    "model to make a selection.\n",
    "\n",
    "Indeed, one can inspect a model and find relative feature importances. For\n",
    "instance, the parameters `coef_` for the linear models or\n",
    "`feature_importances_` for the tree-based models carries such information.\n",
    "Therefore, this method works as far as the relative feature importances given\n",
    "by the model is sufficient to select the meaningful feature.\n",
    "\n",
    "Here, we will generate a dataset that contains a large number of random\n",
    "features."
   ]
  },
  {
   "cell_type": "code",
   "execution_count": 1,
   "id": "handy-mixture",
   "metadata": {},
   "outputs": [],
   "source": [
    "from sklearn.datasets import make_classification\n",
    "\n",
    "data, target = make_classification(\n",
    "    n_samples=5000,\n",
    "    n_features=100,\n",
    "    n_informative=2,\n",
    "    n_redundant=5,\n",
    "    n_repeated=5,\n",
    "    class_sep=0.3,\n",
    "    random_state=0,\n",
    ")"
   ]
  },
  {
   "cell_type": "markdown",
   "id": "integrated-software",
   "metadata": {},
   "source": [
    "First, let's build a model which will not make any features selection."
   ]
  },
  {
   "cell_type": "code",
   "execution_count": 2,
   "id": "baking-greene",
   "metadata": {},
   "outputs": [],
   "source": [
    "from sklearn.ensemble import RandomForestClassifier\n",
    "\n",
    "model_without_selection = RandomForestClassifier()"
   ]
  },
  {
   "cell_type": "markdown",
   "id": "basic-collective",
   "metadata": {},
   "source": [
    "We will evaluate this model by a k-fold cross validation and store the\n",
    "results in a pandas dataframe."
   ]
  },
  {
   "cell_type": "code",
   "execution_count": 3,
   "id": "level-navigator",
   "metadata": {},
   "outputs": [],
   "source": [
    "import pandas as pd\n",
    "from sklearn.model_selection import cross_validate\n",
    "\n",
    "cv_results_without_selection = cross_validate(\n",
    "    model_without_selection, data, target, cv=5)\n",
    "cv_results_without_selection = pd.DataFrame(cv_results_without_selection)"
   ]
  },
  {
   "cell_type": "markdown",
   "id": "appropriate-artwork",
   "metadata": {},
   "source": [
    "Then, we will build another model which will include a feature selection\n",
    "step based on a random forest and evaluate it as well with cross-validation."
   ]
  },
  {
   "cell_type": "code",
   "execution_count": 4,
   "id": "satisfied-leone",
   "metadata": {},
   "outputs": [],
   "source": [
    "from sklearn.pipeline import make_pipeline\n",
    "from sklearn.feature_selection import SelectFromModel\n",
    "\n",
    "feature_selector = SelectFromModel(RandomForestClassifier())\n",
    "model_with_selection = make_pipeline(\n",
    "    feature_selector, RandomForestClassifier())"
   ]
  },
  {
   "cell_type": "code",
   "execution_count": 5,
   "id": "wound-calculation",
   "metadata": {},
   "outputs": [],
   "source": [
    "cv_results_with_selection = cross_validate(model_with_selection, data, target,\n",
    "                                           cv=5)\n",
    "cv_results_with_selection = pd.DataFrame(cv_results_with_selection)"
   ]
  },
  {
   "cell_type": "markdown",
   "id": "bulgarian-thursday",
   "metadata": {},
   "source": [
    "We can compare the testing score of the two models. For this matter,\n",
    "we are combining results in a single dataframe."
   ]
  },
  {
   "cell_type": "code",
   "execution_count": 6,
   "id": "neural-carry",
   "metadata": {},
   "outputs": [],
   "source": [
    "cv_results = pd.concat(\n",
    "    [cv_results_without_selection, cv_results_with_selection],\n",
    "    axis=1,\n",
    "    keys=[\"Without feature selection\", \"With feature selection\"],\n",
    ").swaplevel(axis=\"columns\")"
   ]
  },
  {
   "cell_type": "markdown",
   "id": "royal-delaware",
   "metadata": {},
   "source": [
    "Finally, we can check the testing score of each the model."
   ]
  },
  {
   "cell_type": "code",
   "execution_count": 7,
   "id": "centered-station",
   "metadata": {},
   "outputs": [
    {
     "data": {
      "image/png": "[encoded data removed]",
      "text/plain": [
       "<Figure size 432x288 with 1 Axes>"
      ]
     },
     "metadata": {
      "needs_background": "light"
     },
     "output_type": "display_data"
    }
   ],
   "source": [
    "import matplotlib.pyplot as plt\n",
    "\n",
    "color = {\"whiskers\": \"black\", \"medians\": \"black\", \"caps\": \"black\"}\n",
    "cv_results[\"test_score\"].plot.box(color=color, vert=False)\n",
    "plt.xlabel(\"Accuracy\")\n",
    "_ = plt.title(\"Limitation of using a random forest for feature selection\")"
   ]
  },
  {
   "cell_type": "markdown",
   "id": "invalid-insulin",
   "metadata": {},
   "source": [
    "The model that selected a subset of feature is less performant than a\n",
    "random forest fitted on the full dataset.\n",
    "\n",
    "We can rely on some aspects tackled in the notebook presenting the model\n",
    "inspection to explain this behaviour. The decision tree's relative feature\n",
    "importance will overestimate the importance of random feature when the\n",
    "decision tree overfits the training set.\n",
    "\n",
    "Therefore, it is good to keep in mind that feature selection relies on\n",
    "procedures making some assumptions, which can be perfectible."
   ]
  },
  {
   "cell_type": "code",
   "execution_count": null,
   "id": "rotary-context",
   "metadata": {},
   "outputs": [],
   "source": []
  },
  {
   "cell_type": "code",
   "execution_count": null,
   "id": "wrong-angle",
   "metadata": {},
   "outputs": [],
   "source": []
  }
 ],
 "metadata": {
  "jupytext": {
   "cell_metadata_filter": "-all",
   "main_language": "python",
   "notebook_metadata_filter": "-all"
  },
  "kernelspec": {
   "display_name": "Python 3",
   "language": "python",
   "name": "python3"
  },
  "language_info": {
   "codemirror_mode": {
    "name": "ipython",
    "version": 3
   },
   "file_extension": ".py",
   "mimetype": "text/x-python",
   "name": "python",
   "nbconvert_exporter": "python",
   "pygments_lexer": "ipython3",
   "version": "3.8.5"
  },
  "nbreset": "https://github.com/INRIA/scikit-learn-mooc/raw/master/notebooks/feature_selection_limitation_model.ipynb"
 },
 "nbformat": 4,
 "nbformat_minor": 5
}
