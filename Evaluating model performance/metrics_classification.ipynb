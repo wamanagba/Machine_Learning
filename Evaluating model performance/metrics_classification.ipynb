{
 "cells": [
  {
   "cell_type": "markdown",
   "id": "hidden-diagnosis",
   "metadata": {},
   "source": [
    "# Classification\n",
    "\n",
    "This notebook aims at giving an overview of the classification metrics that\n",
    "can be used to evaluate the predictive model statistical performance. We can\n",
    "recall that in a classification setting, the vector `target` is categorical\n",
    "rather than continuous.\n",
    "\n",
    "We will load the blood transfusion dataset."
   ]
  },
  {
   "cell_type": "code",
   "execution_count": 2,
   "id": "former-blake",
   "metadata": {},
   "outputs": [],
   "source": [
    "import pandas as pd\n",
    "\n",
    "url = 'https://raw.githubusercontent.com/wamanagba/Data/main/blood_transfusion.csv'\n",
    "blood_transfusion = pd.read_csv(url)\n",
    "\n",
    "#blood_transfusion = pd.read_csv(\"../datasets/blood_transfusion.csv\")\n",
    "data = blood_transfusion.drop(columns=\"Class\")\n",
    "target = blood_transfusion[\"Class\"]"
   ]
  },
  {
   "cell_type": "markdown",
   "id": "limited-columbia",
   "metadata": {},
   "source": [
    "Let's start by checking the classes present in the target vector `target`."
   ]
  },
  {
   "cell_type": "code",
   "execution_count": 3,
   "id": "fourth-ordering",
   "metadata": {},
   "outputs": [
    {
     "data": {
      "image/png": "[encoded data removed]",
      "text/plain": [
       "<Figure size 432x288 with 1 Axes>"
      ]
     },
     "metadata": {
      "needs_background": "light"
     },
     "output_type": "display_data"
    }
   ],
   "source": [
    "import matplotlib.pyplot as plt\n",
    "\n",
    "target.value_counts().plot.barh()\n",
    "plt.xlabel(\"Number of samples\")\n",
    "_ = plt.title(\"Number of samples per classes present\\n in the target\")"
   ]
  },
  {
   "cell_type": "markdown",
   "id": "exciting-edinburgh",
   "metadata": {},
   "source": [
    "We can see that the vector `target` contains two classes corresponding to\n",
    "whether a subject gave blood We will use a logistic regression classifier to\n",
    "predict this outcome.\n",
    "\n",
    "To focus on the metrics presentation, we will only use a single split instead\n",
    "of cross-validation."
   ]
  },
  {
   "cell_type": "code",
   "execution_count": 4,
   "id": "dressed-bibliography",
   "metadata": {},
   "outputs": [],
   "source": [
    "from sklearn.model_selection import train_test_split\n",
    "\n",
    "data_train, data_test, target_train, target_test = train_test_split(\n",
    "    data, target, shuffle=True, random_state=0, test_size=0.5)"
   ]
  },
  {
   "cell_type": "markdown",
   "id": "three-collective",
   "metadata": {},
   "source": [
    "We will use a logistic regression classifier as a base model. We will train\n",
    "the model on the train set, and later use the test set to compute the\n",
    "different classification metric."
   ]
  },
  {
   "cell_type": "code",
   "execution_count": 5,
   "id": "strong-package",
   "metadata": {},
   "outputs": [
    {
     "data": {
      "text/plain": [
       "LogisticRegression()"
      ]
     },
     "execution_count": 5,
     "metadata": {},
     "output_type": "execute_result"
    }
   ],
   "source": [
    "from sklearn.linear_model import LogisticRegression\n",
    "\n",
    "classifier = LogisticRegression()\n",
    "classifier.fit(data_train, target_train)"
   ]
  },
  {
   "cell_type": "markdown",
   "id": "understood-polls",
   "metadata": {},
   "source": [
    "## Classifier predictions\n",
    "Before we go into details regarding the metrics, we will recall what type\n",
    "of predictions a classifier can provide.\n",
    "\n",
    "For this reason, we will create a synthetic sample for a new potential donor:\n",
    "he/she donated blood twice in the past (1000 c.c. each time). The last time\n",
    "was 6 months ago, and the first time goes back to 20 months ago."
   ]
  },
  {
   "cell_type": "code",
   "execution_count": 6,
   "id": "defensive-cinema",
   "metadata": {},
   "outputs": [],
   "source": [
    "new_donor = [[6, 2, 1000, 20]]"
   ]
  },
  {
   "cell_type": "markdown",
   "id": "vulnerable-viking",
   "metadata": {},
   "source": [
    "We can get the class predicted by the classifier by calling the method\n",
    "`predict`."
   ]
  },
  {
   "cell_type": "code",
   "execution_count": 7,
   "id": "rising-point",
   "metadata": {},
   "outputs": [
    {
     "data": {
      "text/plain": [
       "array(['not donated'], dtype=object)"
      ]
     },
     "execution_count": 7,
     "metadata": {},
     "output_type": "execute_result"
    }
   ],
   "source": [
    "classifier.predict(new_donor)"
   ]
  },
  {
   "cell_type": "markdown",
   "id": "differential-chapter",
   "metadata": {},
   "source": [
    "With this information, our classifier predicts that this synthetic subject\n",
    "is more likely to not donate blood again.\n",
    "\n",
    "However, we cannot check whether the prediction is correct (we do not know\n",
    "the true target value). That's the purpose of the testing set. First, we\n",
    "predict whether a subject will give blood with the help of the trained\n",
    "classifier."
   ]
  },
  {
   "cell_type": "code",
   "execution_count": 8,
   "id": "inside-tampa",
   "metadata": {},
   "outputs": [
    {
     "data": {
      "text/plain": [
       "array(['not donated', 'not donated', 'not donated', 'not donated',\n",
       "       'donated'], dtype=object)"
      ]
     },
     "execution_count": 8,
     "metadata": {},
     "output_type": "execute_result"
    }
   ],
   "source": [
    "target_predicted = classifier.predict(data_test)\n",
    "target_predicted[:5]"
   ]
  },
  {
   "cell_type": "markdown",
   "id": "secret-equivalent",
   "metadata": {},
   "source": [
    "## Accuracy as a baseline\n",
    "Now that we have these predictions, we can compare them with the true\n",
    "predictions (sometimes called ground-truth) which we did not use until now."
   ]
  },
  {
   "cell_type": "code",
   "execution_count": 9,
   "id": "scientific-girlfriend",
   "metadata": {},
   "outputs": [
    {
     "data": {
      "text/plain": [
       "258     True\n",
       "521    False\n",
       "14     False\n",
       "31     False\n",
       "505     True\n",
       "       ...  \n",
       "665     True\n",
       "100    False\n",
       "422     True\n",
       "615     True\n",
       "743     True\n",
       "Name: Class, Length: 374, dtype: bool"
      ]
     },
     "execution_count": 9,
     "metadata": {},
     "output_type": "execute_result"
    }
   ],
   "source": [
    "target_test == target_predicted"
   ]
  },
  {
   "cell_type": "markdown",
   "id": "delayed-composition",
   "metadata": {},
   "source": [
    "In the comparison above, a `True` value means that the value predicted by our\n",
    "classifier is identical to the real value, while a `False` means that our\n",
    "classifier made a mistake. One way of getting an overall rate representing\n",
    "the statistical performance of our classifier would be to compute how many\n",
    "times our classifier was right and divide it by the number of samples in our\n",
    "set."
   ]
  },
  {
   "cell_type": "code",
   "execution_count": 10,
   "id": "champion-soldier",
   "metadata": {},
   "outputs": [
    {
     "data": {
      "text/plain": [
       "0.7780748663101604"
      ]
     },
     "execution_count": 10,
     "metadata": {},
     "output_type": "execute_result"
    }
   ],
   "source": [
    "import numpy as np\n",
    "\n",
    "np.mean(target_test == target_predicted)"
   ]
  },
  {
   "cell_type": "markdown",
   "id": "suspected-creek",
   "metadata": {},
   "source": [
    "This measure is called the accuracy. Here, our classifier is 78%\n",
    "accurate at classifying if a subject will give blood. `scikit-learn` provides\n",
    "a function that computes this metric in the module `sklearn.metrics`."
   ]
  },
  {
   "cell_type": "code",
   "execution_count": 11,
   "id": "phantom-scheduling",
   "metadata": {},
   "outputs": [
    {
     "name": "stdout",
     "output_type": "stream",
     "text": [
      "Accuracy: 0.778\n"
     ]
    }
   ],
   "source": [
    "from sklearn.metrics import accuracy_score\n",
    "\n",
    "accuracy = accuracy_score(target_test, target_predicted)\n",
    "print(f\"Accuracy: {accuracy:.3f}\")"
   ]
  },
  {
   "cell_type": "markdown",
   "id": "bridal-minister",
   "metadata": {},
   "source": [
    "`LogisticRegression` also has a method named `score` (part of the standard\n",
    "scikit-learn API), which computes the accuracy score."
   ]
  },
  {
   "cell_type": "code",
   "execution_count": 12,
   "id": "acoustic-sunrise",
   "metadata": {},
   "outputs": [
    {
     "data": {
      "text/plain": [
       "0.7780748663101604"
      ]
     },
     "execution_count": 12,
     "metadata": {},
     "output_type": "execute_result"
    }
   ],
   "source": [
    "classifier.score(data_test, target_test)"
   ]
  },
  {
   "cell_type": "markdown",
   "id": "brief-florence",
   "metadata": {},
   "source": [
    "## Confusion matrix and derived metrics\n",
    "The comparison that we did above and the accuracy that we calculated did not\n",
    "take into account the type of error our classifier was making. Accuracy\n",
    "is an aggregate of the errors made by the classifier. We may be interested\n",
    "in finer granularity - to know independently what the error is for each of\n",
    "the two following cases:\n",
    "\n",
    "- we predicted that a person will give blood but she/he did not;\n",
    "- we predicted that a person will not give blood but she/he did."
   ]
  },
  {
   "cell_type": "code",
   "execution_count": 13,
   "id": "executed-adjustment",
   "metadata": {},
   "outputs": [
    {
     "data": {
      "image/png": "[encoded data removed]",
      "text/plain": [
       "<Figure size 432x288 with 2 Axes>"
      ]
     },
     "metadata": {
      "needs_background": "light"
     },
     "output_type": "display_data"
    }
   ],
   "source": [
    "from sklearn.metrics import plot_confusion_matrix\n",
    "\n",
    "_ = plot_confusion_matrix(classifier, data_test, target_test)"
   ]
  },
  {
   "cell_type": "markdown",
   "id": "innocent-search",
   "metadata": {},
   "source": [
    "The in-diagonal numbers are related to predictions that were correct\n",
    "while off-diagonal numbers are related to incorrect predictions\n",
    "(misclassifications). We now know the four types of correct and erroneous\n",
    "predictions:\n",
    "\n",
    "* the top left corner are true positives (TP) and corresponds to people\n",
    "  who gave blood and were predicted as such by the classifier;\n",
    "* the bottom right corner are true negatives (TN) and correspond to\n",
    "  people who did not give blood and were predicted as such by the\n",
    "  classifier;\n",
    "* the top right corner are false negatives (FN) and correspond to\n",
    "  people who gave blood but were predicted to not have given blood;\n",
    "* the bottom left corner are false positives (FP) and correspond to\n",
    "  people who did not give blood but were predicted to have given blood.\n",
    "\n",
    "Once we have split this information, we can compute metrics to highlight the\n",
    "statistical performance of our classifier in a particular setting. For\n",
    "instance, we could be interested in the fraction of people who really gave\n",
    "blood when the classifier predicted so or the fraction of people predicted to\n",
    "have given blood out of the total population that actually did so.\n",
    "\n",
    "The former metric, known as the precision, is defined as TP / (TP + FP)\n",
    "and represents how likely the person actually gave blood when the classifier\n",
    "predicted that they did.\n",
    "The latter, known as the recall, defined as TP / (TP + FN) and\n",
    "assesses how well the classifier is able to correctly identify people who\n",
    "did give blood.\n",
    "We could, similarly to accuracy, manually compute these values,\n",
    "however scikit-learn provides functions to compute these statistics."
   ]
  },
  {
   "cell_type": "code",
   "execution_count": 14,
   "id": "fabulous-helmet",
   "metadata": {},
   "outputs": [
    {
     "name": "stdout",
     "output_type": "stream",
     "text": [
      "Precision score: 0.688\n",
      "Recall score: 0.124\n"
     ]
    }
   ],
   "source": [
    "from sklearn.metrics import precision_score, recall_score\n",
    "\n",
    "precision = precision_score(target_test, target_predicted, pos_label=\"donated\")\n",
    "recall = recall_score(target_test, target_predicted, pos_label=\"donated\")\n",
    "\n",
    "print(f\"Precision score: {precision:.3f}\")\n",
    "print(f\"Recall score: {recall:.3f}\")"
   ]
  },
  {
   "cell_type": "markdown",
   "id": "rolled-safety",
   "metadata": {},
   "source": [
    "These results are in line with what was seen in the confusion matrix. Looking\n",
    "at the left column, more than half of the \"donated\" predictions were correct,\n",
    "leading to a precision above 0.5. However, our classifier mislabeled a lot of\n",
    "people who gave blood as \"not donated\", leading to a very low recall of\n",
    "around 0.1.\n",
    "\n",
    "## The issue of class imbalance\n",
    "At this stage, we could ask ourself a reasonable question. While the accuracy\n",
    "did not look bad (i.e. 77%), the recall score is relatively low (i.e. 12%).\n",
    "\n",
    "As we mentioned, precision and recall only focuses on samples predicted to be\n",
    "positive, while accuracy takes both into account. In addition, we did not\n",
    "look at the ratio of classes (labels). We could check this ratio in the\n",
    "training set."
   ]
  },
  {
   "cell_type": "code",
   "execution_count": 15,
   "id": "helpful-dynamics",
   "metadata": {},
   "outputs": [
    {
     "data": {
      "image/png": "[encoded data removed]",
      "text/plain": [
       "<Figure size 432x288 with 1 Axes>"
      ]
     },
     "metadata": {
      "needs_background": "light"
     },
     "output_type": "display_data"
    }
   ],
   "source": [
    "target_train.value_counts(normalize=True).plot.barh()\n",
    "plt.xlabel(\"Class frequency\")\n",
    "_ = plt.title(\"Class frequency in the training set\")"
   ]
  },
  {
   "cell_type": "markdown",
   "id": "athletic-street",
   "metadata": {},
   "source": [
    "We observe that the positive class, `'donated'`, comprises only 24% of the\n",
    "samples. The good accuracy of our classifier is then linked to its ability to\n",
    "correctly predict the negative class `'not donated'` which may or may not be\n",
    "relevant, depending on the application. We can illustrate the issue using a\n",
    "dummy classifier as a baseline."
   ]
  },
  {
   "cell_type": "code",
   "execution_count": 16,
   "id": "positive-diversity",
   "metadata": {},
   "outputs": [
    {
     "name": "stdout",
     "output_type": "stream",
     "text": [
      "Accuracy of the dummy classifier: 0.762\n"
     ]
    }
   ],
   "source": [
    "from sklearn.dummy import DummyClassifier\n",
    "\n",
    "dummy_classifier = DummyClassifier(strategy=\"most_frequent\")\n",
    "dummy_classifier.fit(data_train, target_train)\n",
    "print(f\"Accuracy of the dummy classifier: \"\n",
    "      f\"{dummy_classifier.score(data_test, target_test):.3f}\")"
   ]
  },
  {
   "cell_type": "markdown",
   "id": "distant-robert",
   "metadata": {},
   "source": [
    "With the dummy classifier, which always predicts the negative class `'not\n",
    "donated'`, we obtain an accuracy score of 76%. Therefore, it means that this\n",
    "classifier, without learning anything from the data `data`, is capable of\n",
    "predicting as accurately as our logistic regression model.\n",
    "\n",
    "The problem illustrated above is also known as the class imbalance problem.\n",
    "When the classes are imbalanced, accuracy should not be used. In this case,\n",
    "one should either use the precision and recall as presented above or the\n",
    "balanced accuracy score instead of accuracy."
   ]
  },
  {
   "cell_type": "code",
   "execution_count": 17,
   "id": "liked-intro",
   "metadata": {
    "lines_to_next_cell": 0
   },
   "outputs": [
    {
     "name": "stdout",
     "output_type": "stream",
     "text": [
      "Balanced accuracy: 0.553\n"
     ]
    }
   ],
   "source": [
    "from sklearn.metrics import balanced_accuracy_score\n",
    "\n",
    "balanced_accuracy = balanced_accuracy_score(target_test, target_predicted)\n",
    "print(f\"Balanced accuracy: {balanced_accuracy:.3f}\")"
   ]
  },
  {
   "cell_type": "markdown",
   "id": "promotional-pathology",
   "metadata": {},
   "source": [
    "The balanced accuracy is equivalent to accuracy in the context of balanced\n",
    "classes. It is defined as the average recall obtained on each class.\n",
    "\n",
    "## Evaluation and different probability thresholds\n",
    "\n",
    "All statistics that we presented up to now rely on `classifier.predict` which\n",
    "outputs the most likely label. We haven't made use of the probability\n",
    "associated with this prediction, which gives the confidence of the\n",
    "classifier in this prediction. By default, the prediction of a classifier\n",
    "corresponds to a threshold of 0.5 probability in a binary classification\n",
    "problem. We can quickly check this relationship with the classifier that\n",
    "we trained."
   ]
  },
  {
   "cell_type": "code",
   "execution_count": 18,
   "id": "incident-rocket",
   "metadata": {},
   "outputs": [
    {
     "data": {
      "text/html": [
       "<div>\n",
       "<style scoped>\n",
       "    .dataframe tbody tr th:only-of-type {\n",
       "        vertical-align: middle;\n",
       "    }\n",
       "\n",
       "    .dataframe tbody tr th {\n",
       "        vertical-align: top;\n",
       "    }\n",
       "\n",
       "    .dataframe thead th {\n",
       "        text-align: right;\n",
       "    }\n",
       "</style>\n",
       "<table border=\"1\" class=\"dataframe\">\n",
       "  <thead>\n",
       "    <tr style=\"text-align: right;\">\n",
       "      <th></th>\n",
       "      <th>donated</th>\n",
       "      <th>not donated</th>\n",
       "    </tr>\n",
       "  </thead>\n",
       "  <tbody>\n",
       "    <tr>\n",
       "      <th>0</th>\n",
       "      <td>0.271820</td>\n",
       "      <td>0.728180</td>\n",
       "    </tr>\n",
       "    <tr>\n",
       "      <th>1</th>\n",
       "      <td>0.451764</td>\n",
       "      <td>0.548236</td>\n",
       "    </tr>\n",
       "    <tr>\n",
       "      <th>2</th>\n",
       "      <td>0.445211</td>\n",
       "      <td>0.554789</td>\n",
       "    </tr>\n",
       "    <tr>\n",
       "      <th>3</th>\n",
       "      <td>0.441577</td>\n",
       "      <td>0.558423</td>\n",
       "    </tr>\n",
       "    <tr>\n",
       "      <th>4</th>\n",
       "      <td>0.870583</td>\n",
       "      <td>0.129417</td>\n",
       "    </tr>\n",
       "  </tbody>\n",
       "</table>\n",
       "</div>"
      ],
      "text/plain": [
       "    donated  not donated\n",
       "0  0.271820     0.728180\n",
       "1  0.451764     0.548236\n",
       "2  0.445211     0.554789\n",
       "3  0.441577     0.558423\n",
       "4  0.870583     0.129417"
      ]
     },
     "execution_count": 18,
     "metadata": {},
     "output_type": "execute_result"
    }
   ],
   "source": [
    "target_proba_predicted = pd.DataFrame(classifier.predict_proba(data_test),\n",
    "                                      columns=classifier.classes_)\n",
    "target_proba_predicted[:5]"
   ]
  },
  {
   "cell_type": "code",
   "execution_count": 19,
   "id": "centered-renewal",
   "metadata": {},
   "outputs": [
    {
     "data": {
      "text/plain": [
       "array(['not donated', 'not donated', 'not donated', 'not donated',\n",
       "       'donated'], dtype=object)"
      ]
     },
     "execution_count": 19,
     "metadata": {},
     "output_type": "execute_result"
    }
   ],
   "source": [
    "target_predicted = classifier.predict(data_test)\n",
    "target_predicted[:5]"
   ]
  },
  {
   "cell_type": "markdown",
   "id": "flush-somerset",
   "metadata": {},
   "source": [
    "Since probabilities sum to 1 we can get the class with the highest\n",
    "probability without using the threshold 0.5."
   ]
  },
  {
   "cell_type": "code",
   "execution_count": 20,
   "id": "comfortable-cycling",
   "metadata": {},
   "outputs": [
    {
     "data": {
      "text/plain": [
       "True"
      ]
     },
     "execution_count": 20,
     "metadata": {},
     "output_type": "execute_result"
    }
   ],
   "source": [
    "equivalence_pred_proba = (\n",
    "    target_proba_predicted.idxmax(axis=1).to_numpy() == target_predicted)\n",
    "np.all(equivalence_pred_proba)"
   ]
  },
  {
   "cell_type": "markdown",
   "id": "underlying-television",
   "metadata": {},
   "source": [
    "The default decision threshold (0.5) might not be the best threshold that\n",
    "leads to optimal statistical performance of our classifier. In this case, one\n",
    "can vary the decision threshold, and therefore the underlying prediction, and\n",
    "compute the same statistics presented earlier. Usually, the two metrics\n",
    "recall and precision are computed and plotted on a graph. Each metric plotted\n",
    "on a graph axis and each point on the graph corresponds to a specific\n",
    "decision threshold. Let's start by computing the precision-recall curve."
   ]
  },
  {
   "cell_type": "code",
   "execution_count": 21,
   "id": "unsigned-conclusion",
   "metadata": {},
   "outputs": [
    {
     "data": {
      "image/png": "[encoded data removed]",
      "text/plain": [
       "<Figure size 432x288 with 1 Axes>"
      ]
     },
     "metadata": {
      "needs_background": "light"
     },
     "output_type": "display_data"
    }
   ],
   "source": [
    "from sklearn.metrics import plot_precision_recall_curve\n",
    "\n",
    "disp = plot_precision_recall_curve(\n",
    "    classifier, data_test, target_test, pos_label='donated',\n",
    "    marker=\"+\"\n",
    ")\n",
    "_ = disp.ax_.set_title(\"Precision-recall curve\")"
   ]
  },
  {
   "cell_type": "markdown",
   "id": "suffering-immigration",
   "metadata": {},
   "source": [
    "<div class=\"admonition tip alert alert-warning\">\n",
    "<p class=\"first admonition-title\" style=\"font-weight: bold;\">Tip</p>\n",
    "<p class=\"last\">Scikit-learn will return a display containing all plotting element. Notably,\n",
    "displays will expose a matplotlib axis, named <tt class=\"docutils literal\">ax_</tt>, that can be used to add\n",
    "new element on the axis.\n",
    "You can refer to the documentation to have more information regarding the\n",
    "<a class=\"reference external\" href=\"https://scikit-learn.org/stable/visualizations.html#visualizations\">visualizations in scikit-learn</a></p>\n",
    "</div>\n",
    "\n",
    "On this curve, each blue cross corresponds to a level of probability which we\n",
    "used as a decision threshold. We can see that, by varying this decision\n",
    "threshold, we get different precision vs. recall values.\n",
    "\n",
    "A perfect classifier would have a precision of 1 for all recall values. A\n",
    "metric characterizing the curve is linked to the area under the curve (AUC)\n",
    "and is named average precision (AP). With an ideal classifier, the average\n",
    "precision would be 1.\n",
    "\n",
    "The precision and recall metric focuses on the positive class, however, one\n",
    "might be interested in the compromise between accurately discriminating the\n",
    "positive class and accurately discriminating the negative classes. The\n",
    "statistics used for this are sensitivity and specificity. Sensitivity is just\n",
    "another name for recall. However, specificity measures the proportion of\n",
    "correctly classified samples in the negative class defined as: TN / (TN +\n",
    "FP). Similar to the precision-recall curve, sensitivity and specificity are\n",
    "generally plotted as a curve called the receiver operating characteristic\n",
    "(ROC) curve. Below is such a curve:"
   ]
  },
  {
   "cell_type": "code",
   "execution_count": 22,
   "id": "accompanied-conversion",
   "metadata": {},
   "outputs": [
    {
     "data": {
      "image/png": "[encoded data removed]",
      "text/plain": [
       "<Figure size 432x288 with 1 Axes>"
      ]
     },
     "metadata": {
      "needs_background": "light"
     },
     "output_type": "display_data"
    }
   ],
   "source": [
    "from sklearn.metrics import plot_roc_curve\n",
    "\n",
    "disp = plot_roc_curve(\n",
    "    classifier, data_test, target_test, pos_label='donated',\n",
    "    marker=\"+\")\n",
    "disp = plot_roc_curve(\n",
    "    dummy_classifier, data_test, target_test, pos_label='donated',\n",
    "    color=\"tab:orange\", linestyle=\"--\", ax=disp.ax_)\n",
    "_ = disp.ax_.set_title(\"ROC AUC curve\")"
   ]
  },
  {
   "cell_type": "markdown",
   "id": "living-prague",
   "metadata": {},
   "source": [
    "This curve was built using the same principle as the precision-recall curve:\n",
    "we vary the probability threshold for determining \"hard\" prediction and\n",
    "compute the metrics. As with the precision-recall curve, we can compute the\n",
    "area under the ROC (ROC-AUC) to characterize the statistical performance of\n",
    "our classifier. However, it is important to observe that the lower bound of\n",
    "the ROC-AUC is 0.5. Indeed, we show the statistical performance of a dummy\n",
    "classifier (the orange dashed line) to show that even the worst statistical\n",
    "performance obtained will be above this line."
   ]
  }
 ],
 "metadata": {
  "jupytext": {
   "cell_metadata_filter": "-all",
   "main_language": "python",
   "notebook_metadata_filter": "-all"
  },
  "kernelspec": {
   "display_name": "Python 3",
   "language": "python",
   "name": "python3"
  },
  "language_info": {
   "codemirror_mode": {
    "name": "ipython",
    "version": 3
   },
   "file_extension": ".py",
   "mimetype": "text/x-python",
   "name": "python",
   "nbconvert_exporter": "python",
   "pygments_lexer": "ipython3",
   "version": "3.8.5"
  },
  "nbreset": "https://github.com/INRIA/scikit-learn-mooc/raw/master/notebooks/metrics_classification.ipynb"
 },
 "nbformat": 4,
 "nbformat_minor": 5
}
